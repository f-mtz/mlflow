{
 "cells": [
  {
   "cell_type": "markdown",
   "id": "00e47d67-6a2c-4ceb-94c1-c1e5b03cceb1",
   "metadata": {},
   "source": [
    "## Consumindo API gerada pelo MLFlow para usar o Modelo"
   ]
  },
  {
   "cell_type": "code",
   "execution_count": 29,
   "id": "847c77ad-4673-4bf2-87ab-c797a98c4452",
   "metadata": {},
   "outputs": [
    {
     "data": {
      "text/plain": [
       "'2.32.3'"
      ]
     },
     "execution_count": 29,
     "metadata": {},
     "output_type": "execute_result"
    }
   ],
   "source": [
    "import requests\n",
    "\n",
    "requests.__version__"
   ]
  },
  {
   "cell_type": "code",
   "execution_count": 36,
   "id": "f0e3989e-4488-452b-b7d5-384cc5b57acd",
   "metadata": {},
   "outputs": [
    {
     "data": {
      "text/plain": [
       "{'dataframe_split': {'columns': ['tamanho', 'ano', 'garagem'],\n",
       "  'data': [[159.0, 2003, 2]]}}"
      ]
     },
     "execution_count": 36,
     "metadata": {},
     "output_type": "execute_result"
    }
   ],
   "source": [
    "# Dados no formato correto para MLflow\n",
    "data = {\n",
    "    \"dataframe_split\": {\n",
    "        \"columns\": [\"tamanho\", \"ano\", \"garagem\"],\n",
    "        \"data\": [[159.0, 2003, 2]]\n",
    "    }\n",
    "}\n",
    "\n",
    "data"
   ]
  },
  {
   "cell_type": "code",
   "execution_count": 31,
   "id": "23d0036e-a586-493c-ba14-53ac2302d47d",
   "metadata": {},
   "outputs": [
    {
     "data": {
      "text/plain": [
       "{'Content-Type': 'application/json'}"
      ]
     },
     "execution_count": 31,
     "metadata": {},
     "output_type": "execute_result"
    }
   ],
   "source": [
    "header = { 'Content-Type':'application/json' }\n",
    "header"
   ]
  },
  {
   "cell_type": "code",
   "execution_count": 37,
   "id": "55225afb-340b-461e-b04f-e99964d6afd1",
   "metadata": {},
   "outputs": [
    {
     "data": {
      "text/plain": [
       "<Response [200]>"
      ]
     },
     "execution_count": 37,
     "metadata": {},
     "output_type": "execute_result"
    }
   ],
   "source": [
    "url = 'http://127.0.0.1:5002/invocations/'\n",
    "\n",
    "response = requests.post(url, json=data, headers=header)\n",
    "response"
   ]
  },
  {
   "cell_type": "code",
   "execution_count": 38,
   "id": "3b49ed14-a6bf-41dd-ba99-4a4a57f877eb",
   "metadata": {},
   "outputs": [
    {
     "data": {
      "text/plain": [
       "200"
      ]
     },
     "execution_count": 38,
     "metadata": {},
     "output_type": "execute_result"
    }
   ],
   "source": [
    "response.status_code"
   ]
  },
  {
   "cell_type": "code",
   "execution_count": 42,
   "id": "f6f48401-387f-4941-9846-83303e78f813",
   "metadata": {},
   "outputs": [
    {
     "data": {
      "text/plain": [
       "b'{\"predictions\": [204506.828125]}'"
      ]
     },
     "execution_count": 42,
     "metadata": {},
     "output_type": "execute_result"
    }
   ],
   "source": [
    "response.content"
   ]
  }
 ],
 "metadata": {
  "kernelspec": {
   "display_name": "Python 3 (ipykernel)",
   "language": "python",
   "name": "python3"
  },
  "language_info": {
   "codemirror_mode": {
    "name": "ipython",
    "version": 3
   },
   "file_extension": ".py",
   "mimetype": "text/x-python",
   "name": "python",
   "nbconvert_exporter": "python",
   "pygments_lexer": "ipython3",
   "version": "3.12.3"
  }
 },
 "nbformat": 4,
 "nbformat_minor": 5
}
